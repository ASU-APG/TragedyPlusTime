{
 "metadata": {
  "orig_nbformat": 2,
  "kernelspec": {
   "name": "oops",
   "display_name": "oops",
   "language": "python"
  }
 },
 "nbformat": 4,
 "nbformat_minor": 2,
 "cells": [
  {
   "cell_type": "code",
   "execution_count": 2,
   "metadata": {},
   "outputs": [],
   "source": [
    "import sys\n",
    "sys.path.append('/usr/local/python')\n",
    "from  openpose  import pyopenpose as op\n",
    "import os\n",
    "import json\n",
    "import glob\n",
    "import subprocess\n",
    "from shlex import quote, split\n",
    "import numpy as np"
   ]
  },
  {
   "cell_type": "code",
   "execution_count": 4,
   "metadata": {},
   "outputs": [],
   "source": [
    "video_paths = glob.glob('/mnt/arnav/oops_dataset/oops_video/train/*.mp4') + glob.glob('/mnt/arnav/oops_dataset/oops_video/val/*.mp4')\n",
    "openpose_path = '/mnt1/arnav/pose-estimation/openpose/'\n",
    "video_dir = '/mnt1/arnav/pose-estimation/oops-videos/'\n",
    "proj_dir = '/mnt1/arnav/pose-estimation/'\n",
    "examples = video_paths[-1]"
   ]
  },
  {
   "cell_type": "code",
   "execution_count": 36,
   "metadata": {},
   "outputs": [],
   "source": [
    "videonames = set(np.load('/home/exx/arnav/transmodel-pytorch/Oops-Annotations/videoname.npy', allow_pickle=True))"
   ]
  },
  {
   "source": [
    "## Removing spaces and renaming files"
   ],
   "cell_type": "markdown",
   "metadata": {}
  },
  {
   "cell_type": "code",
   "execution_count": 37,
   "metadata": {},
   "outputs": [],
   "source": [
    "copy_paths = []\n",
    "for path in video_paths:\n",
    "    base_path = os.path.splitext(os.path.basename(path))[0]\n",
    "    if base_path in videonames:\n",
    "        copy_paths.append(path)"
   ]
  },
  {
   "cell_type": "code",
   "execution_count": 41,
   "metadata": {},
   "outputs": [],
   "source": [
    "mapper = {}\n",
    "\n",
    "cmd = '-exec cp {} /mnt1/arnav/pose-estimation/oops-videos/ ;'\n",
    "for i,files in enumerate(copy_paths):\n",
    "    os.system(f'cp {quote(files)} {os.path.join(video_dir,\"video\"+str(i)+\".mp4\")}')\n",
    "    mapper[f'video{i}'] = os.path.splitext(os.path.basename(files))[0]"
   ]
  },
  {
   "source": [
    "## Testing open pose library"
   ],
   "cell_type": "markdown",
   "metadata": {}
  },
  {
   "cell_type": "code",
   "execution_count": null,
   "metadata": {},
   "outputs": [],
   "source": [
    "cd openpose && ./build/examples/openpose/openpose.bin --video ../video.mp4 --write_json ./output/ --display 0  --write_video ../openpose.avi"
   ]
  },
  {
   "cell_type": "code",
   "execution_count": 53,
   "metadata": {},
   "outputs": [],
   "source": [
    "example = glob.glob(f'{video_dir}*.mp4')[0]\n",
    "base_name = os.path.splitext(os.path.basename(example))[0]\n",
    "cmd = f'cd {openpose_path} && ./build/examples/openpose/openpose.bin --video {example} --write_json ../results/{base_name} --display 0  --write_video ../results/{base_name}/processed.avi'"
   ]
  },
  {
   "source": [
    "## Processing data in Deepsort format"
   ],
   "cell_type": "markdown",
   "metadata": {}
  },
  {
   "cell_type": "code",
   "execution_count": 11,
   "metadata": {},
   "outputs": [],
   "source": [
    "import cv2\n",
    "import shutil"
   ]
  },
  {
   "cell_type": "code",
   "execution_count": 13,
   "metadata": {
    "tags": []
   },
   "outputs": [],
   "source": [
    "results_dir = glob.glob(os.path.join(proj_dir,'results3/*'))\n",
    "for directory in results_dir:\n",
    "    if os.path.exists(os.path.join(directory,'numpy')):\n",
    "        shutil.rmtree(os.path.join(directory,'numpy'))\n",
    "    os.mkdir(os.path.join(directory,'numpy'))\n",
    "    keypoints_json_files = glob.glob(os.path.join(directory,'*.json'))\n",
    "    # iterating over kepoints for each frame\n",
    "    for i,json_file in enumerate(sorted(keypoints_json_files)):\n",
    "        index = int(os.path.splitext(os.path.basename(json_file))[0].split('_')[1])\n",
    "        with open(json_file,'r') as f:\n",
    "            person_kp_list = []\n",
    "            keypoints = json.load(f)\n",
    "            # number of detected people\n",
    "            num_people = len(keypoints['people'])\n",
    "            for ix in range(num_people):\n",
    "                person_kp_list.append(keypoints['people'][ix]['pose_keypoints_2d'])\n",
    "            person_kp_list = np.array(person_kp_list).reshape(num_people, 18, 3)\n",
    "            with open(os.path.join(directory,'numpy',f'frame_{index}.npy'),'wb') as f:\n",
    "                np.save(f, person_kp_list)\n"
   ]
  },
  {
   "cell_type": "code",
   "execution_count": 32,
   "metadata": {},
   "outputs": [],
   "source": [
    "example = glob.glob(os.path.join(glob.glob(os.path.join(proj_dir,'results/*'))[0],'numpy/*'))"
   ]
  },
  {
   "cell_type": "code",
   "execution_count": 41,
   "metadata": {},
   "outputs": [
    {
     "output_type": "execute_result",
     "data": {
      "text/plain": [
       "('frame_417', '.npy')"
      ]
     },
     "metadata": {},
     "execution_count": 41
    }
   ],
   "source": [
    "int(os.path.splitext(os.path.basename(example[0]))[0].split('_')[1])"
   ]
  },
  {
   "source": [
    "## Converting avi to mp4 videos"
   ],
   "cell_type": "markdown",
   "metadata": {}
  },
  {
   "cell_type": "code",
   "execution_count": 10,
   "metadata": {
    "tags": []
   },
   "outputs": [],
   "source": [
    "results_dir = glob.glob(os.path.join(proj_dir,'results3/*'))\n",
    "for directory in results_dir:\n",
    "    if not os.path.exists(os.path.join(directory,'processed.mp4')):\n",
    "        print('no')\n",
    "    # !cd {directory} && ffmpeg -y -loglevel info -i processed.avi processed.mp4"
   ]
  },
  {
   "cell_type": "code",
   "execution_count": 6,
   "metadata": {},
   "outputs": [
    {
     "output_type": "execute_result",
     "data": {
      "text/plain": [
       "'/mnt1/arnav/pose-estimation/results3/video390'"
      ]
     },
     "metadata": {},
     "execution_count": 6
    }
   ],
   "source": []
  },
  {
   "cell_type": "code",
   "execution_count": null,
   "metadata": {},
   "outputs": [],
   "source": []
  }
 ]
}